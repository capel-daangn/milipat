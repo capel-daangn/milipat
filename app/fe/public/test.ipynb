{
 "cells": [
  {
   "cell_type": "code",
   "execution_count": 48,
   "metadata": {},
   "outputs": [],
   "source": [
    "import pandas as pd\n",
    "\n",
    "# df = pd.read_csv(\"방위사업청_보유 특허목록_20221231.csv\")\n",
    "df = pd.read_csv(\"방위사업청_보유 특허목록_20221231.csv\", encoding='UTF8', index_col='����')\n",
    "\n",
    "# df.to_csv('방위사업청_보유 특허목록_20221231_encoded.csv', index=False, encoding='utf-8')\n",
    "df"
   ]
  },
  {
   "cell_type": "code",
   "execution_count": 12,
   "metadata": {},
   "outputs": [],
   "source": [
    "df.to_json('방위사업청_보유 특허목록_20221231_encoded.json', force_ascii=False, orient='split')"
   ]
  }
 ],
 "metadata": {
  "kernelspec": {
   "display_name": "Python 3",
   "language": "python",
   "name": "python3"
  },
  "language_info": {
   "codemirror_mode": {
    "name": "ipython",
    "version": 3
   },
   "file_extension": ".py",
   "mimetype": "text/x-python",
   "name": "python",
   "nbconvert_exporter": "python",
   "pygments_lexer": "ipython3",
   "version": "3.10.9"
  }
 },
 "nbformat": 4,
 "nbformat_minor": 2
}
